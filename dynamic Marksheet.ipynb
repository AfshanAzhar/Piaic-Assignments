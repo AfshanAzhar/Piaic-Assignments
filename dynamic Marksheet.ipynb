{
 "cells": [
  {
   "cell_type": "markdown",
   "metadata": {},
   "source": [
    "# Create a Dynamic Marksheet"
   ]
  },
  {
   "cell_type": "code",
   "execution_count": 5,
   "metadata": {},
   "outputs": [
    {
     "name": "stdout",
     "output_type": "stream",
     "text": [
      "University :Bahria University\n",
      "Fall 2019\n",
      "Enter Your Name :Afshan\n",
      "Enter your Father's name :Jamil\n",
      "Enter Physics Marks = 99\n",
      "Enter Chemistry Marks = 89\n",
      "Enter Maths Marks =  90\n",
      "Enter Computer Marks= 88\n",
      "--------------------------------------------\n",
      "\t \u001b[5m  PIAIC ISLAMABAD BATCH 3 \n",
      "--------------------------------------------\n",
      "\n",
      "University: Bahria University\n",
      "Fall : 2019\n",
      "Name : Afshan\n",
      "Father_Name: Jamil\n",
      "\t --------------------------\n",
      "\t DETAILED MARKS CERTIFICATE\n",
      "\t --------------------------\n",
      "Physics : 99\n",
      "Chemistry : 89\n",
      "Maths : 90\n",
      "Computer : 88\n",
      "Total : 366\n",
      "Percentage : 91.5\n",
      "\n"
     ]
    }
   ],
   "source": [
    "uni = input(\"University :\")\n",
    "fall = input(\"Fall \")\n",
    "name = input(\"Enter Your Name :\")\n",
    "father_name = input(\"Enter your Father's name :\")\n",
    "phy = input(\"Enter Physics Marks = \")\n",
    "chem = input(\"Enter Chemistry Marks = \")\n",
    "maths = input(\"Enter Maths Marks =  \")\n",
    "comp = input(\"Enter Computer Marks= \")\n",
    "print (\"--------------------------------------------\")\n",
    "print(\"\\t \\033[5m  PIAIC ISLAMABAD BATCH 3 \")\n",
    "print (\"--------------------------------------------\")\n",
    "total = int(phy) + int(chem) +int(maths) +int(comp)\n",
    "per_age = total / 400 * 100\n",
    "\n",
    "message = \"\"\"\n",
    "University: {}\n",
    "Fall : {}\n",
    "Name : {}\n",
    "Father_Name: {}\n",
    "\\t --------------------------\n",
    "\\t DETAILED MARKS CERTIFICATE\n",
    "\\t --------------------------\n",
    "Physics : {}\n",
    "Chemistry : {}\n",
    "Maths : {}\n",
    "Computer : {}\n",
    "Total : {}\n",
    "Percentage : {}\n",
    "\"\"\"\n",
    "\n",
    "message1 = message.format(uni, fall, name, father_name, phy, chem, maths, comp, total, per_age )\n",
    "\n",
    "print(message1)"
   ]
  },
  {
   "cell_type": "code",
   "execution_count": null,
   "metadata": {},
   "outputs": [],
   "source": []
  },
  {
   "cell_type": "code",
   "execution_count": null,
   "metadata": {},
   "outputs": [],
   "source": []
  }
 ],
 "metadata": {
  "kernelspec": {
   "display_name": "Python 3",
   "language": "python",
   "name": "python3"
  },
  "language_info": {
   "codemirror_mode": {
    "name": "ipython",
    "version": 3
   },
   "file_extension": ".py",
   "mimetype": "text/x-python",
   "name": "python",
   "nbconvert_exporter": "python",
   "pygments_lexer": "ipython3",
   "version": "3.7.3"
  }
 },
 "nbformat": 4,
 "nbformat_minor": 2
}
